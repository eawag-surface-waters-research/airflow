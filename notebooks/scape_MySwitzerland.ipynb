{
 "cells": [
  {
   "cell_type": "code",
   "execution_count": null,
   "id": "cf6d1b8e",
   "metadata": {},
   "outputs": [],
   "source": [
    "import os\n",
    "import time\n",
    "import json\n",
    "import pytz\n",
    "import random\n",
    "import requests\n",
    "from bs4 import BeautifulSoup\n",
    "from datetime import datetime, timedelta, timezone"
   ]
  },
  {
   "cell_type": "code",
   "execution_count": null,
   "id": "3e7d870e",
   "metadata": {},
   "outputs": [],
   "source": [
    "ids = []\n",
    "removed = 0\n",
    "for i in range(1, 12):\n",
    "    url = \"https://sospo.myswitzerland.com/lakesides-swimming-pools/lake.river/?p={}\".format(i)\n",
    "    page = requests.get(url)\n",
    "    soup = BeautifulSoup(page.content, \"html.parser\")\n",
    "    table = soup.find_all(\"table\", class_=\"FilterGridTable--table\")[0]\n",
    "    for row in table.find_all('tr')[1:]:\n",
    "        if len(row.find_all(\"div\", class_=\"FilterGridTable--title\")) == 1:\n",
    "            keys = [li.get_text(strip=True) for li in row.find_all('li', class_='QuickFacts--content')]\n",
    "            values = [li.get_text(strip=True) for li in row.find_all('li', class_='QuickFacts--value')]\n",
    "            properties = dict(zip(keys, values))\n",
    "            if properties[\"Lake\"] != \"—\" or properties[\"River\"] != \"—\":\n",
    "                link = row.find(\"a\", class_=\"FilterGridTable--link\").get('href')\n",
    "                p = requests.get(link)\n",
    "                s = BeautifulSoup(p.content, \"html.parser\")\n",
    "                if s.find(\"div\", class_=\"QuickFactsWidget--info is-open\") != None:\n",
    "                    date = datetime.strptime(s.find(\"div\", class_=\"QuickFactsWidget--info is-open\").get_text(strip=True).split(\": \", 1)[1], \"%d.%m.%Y, %H:%M\")\n",
    "                    if (date > datetime.now() - timedelta(days=30)):\n",
    "                        ids.append(link.split(\"/\")[-2])\n",
    "                    else:\n",
    "                        removed = removed + 1\n",
    "                time.sleep(random.uniform(0, 1))\n",
    "with open(\"myswitzerland.json\", 'w') as f:\n",
    "    json.dump(ids, f)"
   ]
  },
  {
   "cell_type": "code",
   "execution_count": null,
   "id": "7e5ff52b",
   "metadata": {},
   "outputs": [],
   "source": []
  }
 ],
 "metadata": {
  "kernelspec": {
   "display_name": "particle-tracking",
   "language": "python",
   "name": "particle-tracking"
  },
  "language_info": {
   "codemirror_mode": {
    "name": "ipython",
    "version": 3
   },
   "file_extension": ".py",
   "mimetype": "text/x-python",
   "name": "python",
   "nbconvert_exporter": "python",
   "pygments_lexer": "ipython3",
   "version": "3.9.19"
  }
 },
 "nbformat": 4,
 "nbformat_minor": 5
}
